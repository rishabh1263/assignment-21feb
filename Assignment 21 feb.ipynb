{
 "cells": [
  {
   "cell_type": "markdown",
   "id": "491a7a24",
   "metadata": {},
   "source": [
    "Web scraping is used in a variety of digital businesses that rely on data harvesting. Legitimate use cases include: Search engine bots crawling a site, analyzing its content and then ranking it. Price comparison sites deploying bots to auto-fetch prices and product descriptions for allied seller websites.\n"
   ]
  },
  {
   "cell_type": "markdown",
   "id": "e83b5d3c",
   "metadata": {},
   "source": [
    "Human copy-and-paste. The simplest form of web scraping is manually copying and pasting data from a web page into a text file or spreadsheet. ...\n",
    "Text pattern matching. ...\n",
    "HTTP programming. ...\n",
    "HTML parsing. ...\n",
    "DOM parsing. ...\n",
    "Vertical aggregation. ...\n",
    "Semantic annotation recognizing. ...\n",
    "Computer vision web-page analysis.\n"
   ]
  },
  {
   "cell_type": "markdown",
   "id": "d189a41e",
   "metadata": {},
   "source": [
    "Beautiful Soup is a Python package for parsing HTML and XML documents (including having malformed markup, i.e. non-closed tags, so named after tag soup). It creates a parse tree for parsed pages that can be used to extract data from HTML, which is useful for web scraping.\n"
   ]
  },
  {
   "cell_type": "markdown",
   "id": "5f5c8626",
   "metadata": {},
   "source": [
    "Flask is a lightweight framework to build websites. We'll use this to parse our collected data and display it as HTML in a new HTML file. The requests module allows us to send http requests to the website we want to scrape. The first line imports the Flask class and the render_template method from the flask library."
   ]
  },
  {
   "cell_type": "markdown",
   "id": "7418b0e5",
   "metadata": {},
   "source": [
    "The service used in this project are :\n",
    "1) codepipeline\n",
    "2) elastic beanstalk\n",
    "AWS CodePipeline is a continuous delivery service you can use to model, visualize, and automate the steps required to release your software\n",
    "\n",
    "What does AWS Beanstalk do?\n",
    "AWS Elastic Beanstalk automates the details of capacity provisioning, load balancing, auto scaling, and application deployment, creating an environment that runs a version of your application. \n"
   ]
  },
  {
   "cell_type": "code",
   "execution_count": null,
   "id": "f9aaf292",
   "metadata": {},
   "outputs": [],
   "source": []
  }
 ],
 "metadata": {
  "kernelspec": {
   "display_name": "Python 3 (ipykernel)",
   "language": "python",
   "name": "python3"
  },
  "language_info": {
   "codemirror_mode": {
    "name": "ipython",
    "version": 3
   },
   "file_extension": ".py",
   "mimetype": "text/x-python",
   "name": "python",
   "nbconvert_exporter": "python",
   "pygments_lexer": "ipython3",
   "version": "3.9.13"
  }
 },
 "nbformat": 4,
 "nbformat_minor": 5
}
